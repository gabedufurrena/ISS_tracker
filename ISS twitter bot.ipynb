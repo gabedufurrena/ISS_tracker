{
 "cells": [
  {
   "cell_type": "markdown",
   "id": "d000e541",
   "metadata": {},
   "source": [
    "# ISS Tracker Bot\n",
    "\n",
    "## Introduction\n",
    "\n",
    "This project will utilize Twitter's notification settings to give followers the ability to be notified when the International Space Station (ISS) is overhead during visibility hours.\n",
    "\n",
    "## Project Goals\n",
    "\n",
    "1. Create a method for reading the ISS position via API and comparing it to the visibility radius of the user.\n",
    "\n",
    "1. Use an API to send out a tweet when the ISS is overhead for a user.\n",
    "\n",
    "1. Use a Database to create graphics so people can view the ISS position through the twitter bot's page. Ideally this would be leading up to visibility hours or before a potential viewing.\n",
    "\n",
    "## Data Sources\n",
    "\n",
    "- For the ISS coordinates, we utilized the `iss-now.json` API from open-notify.org\n",
    "\n",
    "- For the visibility hours, we used the `sunrise-sunset.org` API\n",
    "\n",
    "## Collaborators\n",
    "\n",
    "Math and Coding by Gabe Dufurrena\n",
    "\n",
    "Research and Twitter API by Dr. Quinn Dufurrena"
   ]
  },
  {
   "cell_type": "markdown",
   "id": "c2584b6d",
   "metadata": {},
   "source": [
    "### Import necessary modules"
   ]
  },
  {
   "cell_type": "code",
   "execution_count": 11,
   "id": "fbe6e906",
   "metadata": {},
   "outputs": [],
   "source": [
    "import json\n",
    "import urllib.request\n",
    "import os\n",
    "import math\n",
    "from time import sleep\n",
    "from datetime import datetime\n",
    "import pandas as pd\n",
    "import seaborn as sns\n",
    "import matplotlib.pyplot as plt"
   ]
  },
  {
   "cell_type": "markdown",
   "id": "7d06353b",
   "metadata": {},
   "source": [
    "### Define Function to import the current position of the ISS"
   ]
  },
  {
   "cell_type": "code",
   "execution_count": 2,
   "id": "1219d5f2",
   "metadata": {},
   "outputs": [],
   "source": [
    "def current_position(url):\n",
    "    response = urllib.request.urlopen(url)\n",
    "    result = json.loads(response.read())\n",
    "    location = result['iss_position']\n",
    "    lat = float(location['latitude'])\n",
    "    lon = float(location['longitude'])\n",
    "    return lat, lon"
   ]
  },
  {
   "cell_type": "markdown",
   "id": "ca79b65f",
   "metadata": {},
   "source": [
    "## Main Body of Code\n",
    "\n",
    "This is used to determine when the ISS is visible from Houston"
   ]
  },
  {
   "cell_type": "code",
   "execution_count": 3,
   "id": "08259b9b",
   "metadata": {},
   "outputs": [
    {
     "name": "stdout",
     "output_type": "stream",
     "text": [
      "(47.6591, -28.2585)\n",
      "(47.7093, -28.0893)\n"
     ]
    },
    {
     "ename": "KeyboardInterrupt",
     "evalue": "",
     "output_type": "error",
     "traceback": [
      "\u001b[0;31m---------------------------------------------------------------------------\u001b[0m",
      "\u001b[0;31mKeyboardInterrupt\u001b[0m                         Traceback (most recent call last)",
      "\u001b[0;32m/var/folders/8c/5xyvvhmn3_jclyrkv748rqh80000gp/T/ipykernel_64024/3077335273.py\u001b[0m in \u001b[0;36m<module>\u001b[0;34m\u001b[0m\n\u001b[1;32m     44\u001b[0m     \u001b[0;32melse\u001b[0m\u001b[0;34m:\u001b[0m\u001b[0;34m\u001b[0m\u001b[0;34m\u001b[0m\u001b[0m\n\u001b[1;32m     45\u001b[0m         \u001b[0mprint\u001b[0m\u001b[0;34m(\u001b[0m\u001b[0mcurrent_position\u001b[0m\u001b[0;34m(\u001b[0m\u001b[0;34m'http://api.open-notify.org/iss-now.json'\u001b[0m\u001b[0;34m)\u001b[0m\u001b[0;34m)\u001b[0m\u001b[0;34m\u001b[0m\u001b[0;34m\u001b[0m\u001b[0m\n\u001b[0;32m---> 46\u001b[0;31m         \u001b[0msleep\u001b[0m\u001b[0;34m(\u001b[0m\u001b[0;36m1\u001b[0m\u001b[0;34m)\u001b[0m\u001b[0;34m\u001b[0m\u001b[0;34m\u001b[0m\u001b[0m\n\u001b[0m\u001b[1;32m     47\u001b[0m \u001b[0;34m\u001b[0m\u001b[0m\n\u001b[1;32m     48\u001b[0m \u001b[0;34m\u001b[0m\u001b[0m\n",
      "\u001b[0;31mKeyboardInterrupt\u001b[0m: "
     ]
    }
   ],
   "source": [
    "# R is theoretically the visibility radius of the ISS, assuming a certain number of degrees above the horizon\n",
    "\n",
    "R = 1774.5\n",
    "center_lon = -95.093186\n",
    "center_lat = 29.552839\n",
    "\n",
    "\n",
    "while True:\n",
    "    # Visibility API\n",
    "\n",
    "    url = 'https://api.sunrise-sunset.org/json?lat={}&lng={}&formatted=0'.format(center_lat, center_lon)\n",
    "    response = urllib.request.urlopen(url)\n",
    "    result = json.loads(response.read())\n",
    "    dic = result['results']\n",
    "\n",
    "    end_time = dic['astronomical_twilight_begin']\n",
    "    end_time = end_time.split('T')\n",
    "    end_time = end_time[1].replace('+00:00', '')\n",
    "    end_time = int(end_time.replace(':', ''))\n",
    "\n",
    "\n",
    "    start_time = dic['astronomical_twilight_end']\n",
    "    start_time = start_time.split('T')\n",
    "    start_time = start_time[1].replace('+00:00', '')\n",
    "    start_time = int(start_time.replace(':', ''))\n",
    "\n",
    "    now = int(datetime.now().strftime('%H%M%S'))    \n",
    "    \n",
    "    if now >= start_time and now <= end_time:\n",
    "        #UPDATE GOAL create function defining the daily dataframe for ISS coordinates\n",
    "        \n",
    "        (lat, lon) = current_position('http://api.open-notify.org/iss-now.json')\n",
    "\n",
    "        Rlat = (center_lat-lat) * 110.574\n",
    "        Rlon = (center_lon-lon) * (111.320 * math.cos(lat*0.01745329))\n",
    "        C = (math.sqrt(((Rlat) ** 2) + ((Rlon) ** 2)))\n",
    "        \n",
    "        if C <= R:\n",
    "            print(\"It's here!\", \"lat:\", lat, \"lon:\", lon, \"Rlat:\", Rlat, \"Rlon:\", Rlon, \"C:\", C)\n",
    "            sleep(1800)\n",
    "        else:\n",
    "            print(\"nope\", \"lat:\", lat, \"lon:\", lon, \"Rlat:\", Rlat, \"Rlon:\", Rlon, \"C:\", C)\n",
    "            sleep(1)\n",
    "    else:\n",
    "        print(current_position('http://api.open-notify.org/iss-now.json'))\n",
    "        sleep(1)\n",
    "    \n",
    "\n"
   ]
  },
  {
   "cell_type": "markdown",
   "id": "4aafbaf8",
   "metadata": {},
   "source": [
    "## Visibility API\n",
    "\n",
    "This is a test of the night time visibility API and where the start and end times for the main body of code will be extracted."
   ]
  },
  {
   "cell_type": "code",
   "execution_count": 4,
   "id": "7247ec73",
   "metadata": {},
   "outputs": [
    {
     "name": "stdout",
     "output_type": "stream",
     "text": [
      "105907\n",
      "20300 104225\n",
      "https://api.sunrise-sunset.org/json?lat=29.552839&lng=-95.093186&formatted=0\n"
     ]
    }
   ],
   "source": [
    "# Visibility API\n",
    "center_lon = -95.093186\n",
    "center_lat = 29.552839\n",
    "\n",
    "url = 'https://api.sunrise-sunset.org/json?lat={}&lng={}&formatted=0'.format(center_lat, center_lon)\n",
    "response = urllib.request.urlopen(url)\n",
    "result = json.loads(response.read())\n",
    "dic = result['results']\n",
    "\n",
    "end_time = dic['astronomical_twilight_begin']\n",
    "end_time = end_time.split('T')\n",
    "end_time = end_time[1].replace('+00:00', '')\n",
    "end_time = int(end_time.replace(':', ''))\n",
    "\n",
    "\n",
    "start_time = dic['astronomical_twilight_end']\n",
    "start_time = start_time.split('T')\n",
    "start_time = start_time[1].replace('+00:00', '')\n",
    "start_time = int(start_time.replace(':', ''))\n",
    "\n",
    "now = int(datetime.now().strftime('%H%M%S'))\n",
    "\n",
    "print(now)\n",
    "print(start_time, end_time)\n",
    "print(url)"
   ]
  },
  {
   "cell_type": "markdown",
   "id": "2286f9e7",
   "metadata": {},
   "source": [
    "## Dataframe\n",
    "\n",
    "This creates a dummy dataframe to be used to graph the previous day's position of the ISS. This will be implemented within the main body of code, and ideally a new dataframe will be created every day so users can visualize yesterday's trajectory."
   ]
  },
  {
   "cell_type": "code",
   "execution_count": 5,
   "id": "838736b2",
   "metadata": {},
   "outputs": [
    {
     "name": "stdout",
     "output_type": "stream",
     "text": [
      "   latitude  longitude local_time\n",
      "0   47.8705   -27.5371   10:59:10\n",
      "1   47.9924   -27.1099   10:59:10\n",
      "2   48.1246   -26.6376   10:59:10\n",
      "3   48.2428   -26.2060   10:59:10\n",
      "4   48.3709   -25.7289   10:59:10\n",
      "5   48.4967   -25.2492   10:59:10\n",
      "6   48.6092   -24.8111   10:59:10\n",
      "7   48.7308   -24.3267   10:59:10\n",
      "8   48.8395   -23.8842   10:59:10\n"
     ]
    }
   ],
   "source": [
    "# Creating a Dataframe\n",
    "\n",
    "iss_map_df = pd.DataFrame([],\n",
    "    columns=['latitude', 'longitude', 'local_time'])\n",
    "\n",
    "now_for_df = datetime.now().strftime('%H:%M:%S')\n",
    "\n",
    "url1 = 'http://api.open-notify.org/iss-now.json'\n",
    "for i in range(1,10):\n",
    "    (lat,lon) = current_position(url1)\n",
    "    iss_map_df = iss_map_df.append({'latitude':lat , 'longitude':lon , 'local_time':now_for_df}, ignore_index=True)\n",
    "    sleep(5)\n",
    "\n",
    "print(iss_map_df)\n"
   ]
  },
  {
   "cell_type": "markdown",
   "id": "fe63059c",
   "metadata": {},
   "source": [
    "## Plotting the ISS trajectory\n",
    "\n",
    "This is where the plot of the trajectory is made. Ultimately this will run seperately from the main body of the code."
   ]
  },
  {
   "cell_type": "code",
   "execution_count": 12,
   "id": "aad6c72d",
   "metadata": {},
   "outputs": [
    {
     "data": {
      "text/plain": [
       "<function matplotlib.pyplot.show(close=None, block=None)>"
      ]
     },
     "execution_count": 12,
     "metadata": {},
     "output_type": "execute_result"
    },
    {
     "data": {
      "image/png": "[encoded data removed]",
      "text/plain": [
       "<Figure size 432x288 with 1 Axes>"
      ]
     },
     "metadata": {
      "needs_background": "light"
     },
     "output_type": "display_data"
    }
   ],
   "source": [
    "# Plotting ISS's path on World Map\n",
    "\n",
    "plt.plot(iss_map_df.longitude, iss_map_df.latitude)\n",
    "plt.show"
   ]
  },
  {
   "cell_type": "code",
   "execution_count": null,
   "id": "16fc9b63",
   "metadata": {},
   "outputs": [],
   "source": []
  }
 ],
 "metadata": {
  "kernelspec": {
   "display_name": "Python 3 (ipykernel)",
   "language": "python",
   "name": "python3"
  },
  "language_info": {
   "codemirror_mode": {
    "name": "ipython",
    "version": 3
   },
   "file_extension": ".py",
   "mimetype": "text/x-python",
   "name": "python",
   "nbconvert_exporter": "python",
   "pygments_lexer": "ipython3",
   "version": "3.9.7"
  }
 },
 "nbformat": 4,
 "nbformat_minor": 5
}
